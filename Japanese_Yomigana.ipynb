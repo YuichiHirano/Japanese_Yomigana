{
  "nbformat": 4,
  "nbformat_minor": 0,
  "metadata": {
    "colab": {
      "name": "Japanese_Yomigana.ipynb",
      "version": "0.3.2",
      "provenance": [],
      "include_colab_link": true
    },
    "kernelspec": {
      "name": "python3",
      "display_name": "Python 3"
    }
  },
  "cells": [
    {
      "cell_type": "markdown",
      "metadata": {
        "id": "view-in-github",
        "colab_type": "text"
      },
      "source": [
        "<a href=\"https://colab.research.google.com/github/YuichiHirano/Japanese_Yomigana/blob/master/Japanese_Yomigana.ipynb\" target=\"_parent\"><img src=\"https://colab.research.google.com/assets/colab-badge.svg\" alt=\"Open In Colab\"/></a>"
      ]
    },
    {
      "cell_type": "markdown",
      "metadata": {
        "id": "_2UAUSKQRPAU",
        "colab_type": "text"
      },
      "source": [
        "(https://qiita.com/Naritoshi/items/8f55d7d5cce9ce414395)　を参考にmecabインストール"
      ]
    },
    {
      "cell_type": "code",
      "metadata": {
        "id": "XukOclEtRHjN",
        "colab_type": "code",
        "outputId": "0a3795ff-35f1-4db4-c10c-9c496dbc4679",
        "colab": {
          "base_uri": "https://localhost:8080/",
          "height": 272
        }
      },
      "source": [
        "!apt-get -q -y install sudo file mecab libmecab-dev mecab-ipadic-utf8 git curl python-mecab"
      ],
      "execution_count": 1,
      "outputs": [
        {
          "output_type": "stream",
          "text": [
            "Reading package lists...\n",
            "Building dependency tree...\n",
            "Reading state information...\n",
            "sudo is already the newest version (1.8.21p2-3ubuntu1).\n",
            "libmecab-dev is already the newest version (0.996-5).\n",
            "mecab is already the newest version (0.996-5).\n",
            "mecab-ipadic-utf8 is already the newest version (2.7.0-20070801+main-1).\n",
            "python-mecab is already the newest version (0.99.6-2).\n",
            "curl is already the newest version (7.58.0-2ubuntu3.7).\n",
            "file is already the newest version (1:5.32-2ubuntu0.2).\n",
            "git is already the newest version (1:2.17.1-1ubuntu0.4).\n",
            "The following package was automatically installed and is no longer required:\n",
            "  libnvidia-common-410\n",
            "Use 'apt autoremove' to remove it.\n",
            "0 upgraded, 0 newly installed, 0 to remove and 7 not upgraded.\n"
          ],
          "name": "stdout"
        }
      ]
    },
    {
      "cell_type": "code",
      "metadata": {
        "id": "QlKbsCF1Rg7u",
        "colab_type": "code",
        "outputId": "d52f226b-ddfd-4d63-fae0-ad79438ebc9c",
        "colab": {
          "base_uri": "https://localhost:8080/",
          "height": 1000
        }
      },
      "source": [
        "!git clone --depth 1 https://github.com/neologd/mecab-ipadic-neologd.git\n",
        "!echo yes | mecab-ipadic-neologd/bin/install-mecab-ipadic-neologd -n"
      ],
      "execution_count": 2,
      "outputs": [
        {
          "output_type": "stream",
          "text": [
            "fatal: destination path 'mecab-ipadic-neologd' already exists and is not an empty directory.\n",
            "[install-mecab-ipadic-NEologd] : Start..\n",
            "[install-mecab-ipadic-NEologd] : Check the existance of libraries\n",
            "[install-mecab-ipadic-NEologd] :     find => ok\n",
            "[install-mecab-ipadic-NEologd] :     sort => ok\n",
            "[install-mecab-ipadic-NEologd] :     head => ok\n",
            "[install-mecab-ipadic-NEologd] :     cut => ok\n",
            "[install-mecab-ipadic-NEologd] :     egrep => ok\n",
            "[install-mecab-ipadic-NEologd] :     mecab => ok\n",
            "[install-mecab-ipadic-NEologd] :     mecab-config => ok\n",
            "[install-mecab-ipadic-NEologd] :     make => ok\n",
            "[install-mecab-ipadic-NEologd] :     curl => ok\n",
            "[install-mecab-ipadic-NEologd] :     sed => ok\n",
            "[install-mecab-ipadic-NEologd] :     cat => ok\n",
            "[install-mecab-ipadic-NEologd] :     diff => ok\n",
            "[install-mecab-ipadic-NEologd] :     tar => ok\n",
            "[install-mecab-ipadic-NEologd] :     unxz => ok\n",
            "[install-mecab-ipadic-NEologd] :     xargs => ok\n",
            "[install-mecab-ipadic-NEologd] :     grep => ok\n",
            "[install-mecab-ipadic-NEologd] :     iconv => ok\n",
            "[install-mecab-ipadic-NEologd] :     patch => ok\n",
            "[install-mecab-ipadic-NEologd] :     which => ok\n",
            "[install-mecab-ipadic-NEologd] :     file => ok\n",
            "[install-mecab-ipadic-NEologd] :     openssl => ok\n",
            "[install-mecab-ipadic-NEologd] :     awk => ok\n",
            "\n",
            "[install-mecab-ipadic-NEologd] : mecab-ipadic-NEologd is already up-to-date\n",
            "\n",
            "[install-mecab-ipadic-NEologd] : mecab-ipadic-NEologd will be install to /usr/lib/x86_64-linux-gnu/mecab/dic/mecab-ipadic-neologd\n",
            "\n",
            "[install-mecab-ipadic-NEologd] : Make mecab-ipadic-NEologd\n",
            "[make-mecab-ipadic-NEologd] : Start..\n",
            "[make-mecab-ipadic-NEologd] : Check local seed directory\n",
            "[make-mecab-ipadic-NEologd] : Check local seed file\n",
            "[make-mecab-ipadic-NEologd] : Check local build directory\n",
            "[make-mecab-ipadic-NEologd] : Download original mecab-ipadic file\n",
            "[make-mecab-ipadic-NEologd] : Original mecab-ipadic file is already there.\n",
            "[make-mecab-ipadic-NEologd] : Decompress original mecab-ipadic file\n",
            "[make-mecab-ipadic-NEologd] : Delete old mecab-ipadic-2.7.0-20070801-neologd-20190722 directory\n",
            "mecab-ipadic-2.7.0-20070801/\n",
            "mecab-ipadic-2.7.0-20070801/README\n",
            "mecab-ipadic-2.7.0-20070801/AUTHORS\n",
            "mecab-ipadic-2.7.0-20070801/COPYING\n",
            "mecab-ipadic-2.7.0-20070801/ChangeLog\n",
            "mecab-ipadic-2.7.0-20070801/INSTALL\n",
            "mecab-ipadic-2.7.0-20070801/Makefile.am\n",
            "mecab-ipadic-2.7.0-20070801/Makefile.in\n",
            "mecab-ipadic-2.7.0-20070801/NEWS\n",
            "mecab-ipadic-2.7.0-20070801/aclocal.m4\n",
            "mecab-ipadic-2.7.0-20070801/config.guess\n",
            "mecab-ipadic-2.7.0-20070801/config.sub\n",
            "mecab-ipadic-2.7.0-20070801/configure\n",
            "mecab-ipadic-2.7.0-20070801/configure.in\n",
            "mecab-ipadic-2.7.0-20070801/install-sh\n",
            "mecab-ipadic-2.7.0-20070801/missing\n",
            "mecab-ipadic-2.7.0-20070801/mkinstalldirs\n",
            "mecab-ipadic-2.7.0-20070801/Adj.csv\n",
            "mecab-ipadic-2.7.0-20070801/Adnominal.csv\n",
            "mecab-ipadic-2.7.0-20070801/Adverb.csv\n",
            "mecab-ipadic-2.7.0-20070801/Auxil.csv\n",
            "mecab-ipadic-2.7.0-20070801/Conjunction.csv\n",
            "mecab-ipadic-2.7.0-20070801/Filler.csv\n",
            "mecab-ipadic-2.7.0-20070801/Interjection.csv\n",
            "mecab-ipadic-2.7.0-20070801/Noun.adjv.csv\n",
            "mecab-ipadic-2.7.0-20070801/Noun.adverbal.csv\n",
            "mecab-ipadic-2.7.0-20070801/Noun.csv\n",
            "mecab-ipadic-2.7.0-20070801/Noun.demonst.csv\n",
            "mecab-ipadic-2.7.0-20070801/Noun.nai.csv\n",
            "mecab-ipadic-2.7.0-20070801/Noun.name.csv\n",
            "mecab-ipadic-2.7.0-20070801/Noun.number.csv\n",
            "mecab-ipadic-2.7.0-20070801/Noun.org.csv\n",
            "mecab-ipadic-2.7.0-20070801/Noun.others.csv\n",
            "mecab-ipadic-2.7.0-20070801/Noun.place.csv\n",
            "mecab-ipadic-2.7.0-20070801/Noun.proper.csv\n",
            "mecab-ipadic-2.7.0-20070801/Noun.verbal.csv\n",
            "mecab-ipadic-2.7.0-20070801/Others.csv\n",
            "mecab-ipadic-2.7.0-20070801/Postp-col.csv\n",
            "mecab-ipadic-2.7.0-20070801/Postp.csv\n",
            "mecab-ipadic-2.7.0-20070801/Prefix.csv\n",
            "mecab-ipadic-2.7.0-20070801/Suffix.csv\n",
            "mecab-ipadic-2.7.0-20070801/Symbol.csv\n",
            "mecab-ipadic-2.7.0-20070801/Verb.csv\n",
            "mecab-ipadic-2.7.0-20070801/char.def\n",
            "mecab-ipadic-2.7.0-20070801/feature.def\n",
            "mecab-ipadic-2.7.0-20070801/left-id.def\n",
            "mecab-ipadic-2.7.0-20070801/matrix.def\n",
            "mecab-ipadic-2.7.0-20070801/pos-id.def\n",
            "mecab-ipadic-2.7.0-20070801/rewrite.def\n",
            "mecab-ipadic-2.7.0-20070801/right-id.def\n",
            "mecab-ipadic-2.7.0-20070801/unk.def\n",
            "mecab-ipadic-2.7.0-20070801/dicrc\n",
            "mecab-ipadic-2.7.0-20070801/RESULT\n",
            "[make-mecab-ipadic-NEologd] : Configure custom system dictionary on /content/mecab-ipadic-neologd/libexec/../build/mecab-ipadic-2.7.0-20070801-neologd-20190722\n",
            "checking for a BSD-compatible install... /usr/bin/install -c\n",
            "checking whether build environment is sane... yes\n",
            "checking whether make sets $(MAKE)... yes\n",
            "checking for working aclocal-1.4... missing\n",
            "checking for working autoconf... missing\n",
            "checking for working automake-1.4... missing\n",
            "checking for working autoheader... missing\n",
            "checking for working makeinfo... missing\n",
            "checking for a BSD-compatible install... /usr/bin/install -c\n",
            "checking for mecab-config... /usr/bin/mecab-config\n",
            "configure: creating ./config.status\n",
            "config.status: creating Makefile\n",
            "[make-mecab-ipadic-NEologd] : Encode the character encoding of system dictionary resources from EUC_JP to UTF-8\n",
            "./../../libexec/iconv_euc_to_utf8.sh ./Verb.csv \n",
            "./../../libexec/iconv_euc_to_utf8.sh ./Noun.name.csv \n",
            "./../../libexec/iconv_euc_to_utf8.sh ./Noun.number.csv \n",
            "./../../libexec/iconv_euc_to_utf8.sh ./Adnominal.csv \n",
            "./../../libexec/iconv_euc_to_utf8.sh ./Postp.csv \n",
            "./../../libexec/iconv_euc_to_utf8.sh ./Suffix.csv \n",
            "./../../libexec/iconv_euc_to_utf8.sh ./Adj.csv \n",
            "./../../libexec/iconv_euc_to_utf8.sh ./Others.csv \n",
            "./../../libexec/iconv_euc_to_utf8.sh ./Noun.adjv.csv \n",
            "./../../libexec/iconv_euc_to_utf8.sh ./Noun.adverbal.csv \n",
            "./../../libexec/iconv_euc_to_utf8.sh ./Noun.csv \n",
            "./../../libexec/iconv_euc_to_utf8.sh ./Postp-col.csv \n",
            "./../../libexec/iconv_euc_to_utf8.sh ./Prefix.csv \n",
            "./../../libexec/iconv_euc_to_utf8.sh ./Filler.csv \n",
            "./../../libexec/iconv_euc_to_utf8.sh ./Noun.others.csv \n",
            "./../../libexec/iconv_euc_to_utf8.sh ./Symbol.csv \n",
            "./../../libexec/iconv_euc_to_utf8.sh ./Interjection.csv \n",
            "./../../libexec/iconv_euc_to_utf8.sh ./Noun.proper.csv \n",
            "./../../libexec/iconv_euc_to_utf8.sh ./Noun.place.csv \n",
            "./../../libexec/iconv_euc_to_utf8.sh ./Noun.demonst.csv \n",
            "./../../libexec/iconv_euc_to_utf8.sh ./Auxil.csv \n",
            "./../../libexec/iconv_euc_to_utf8.sh ./Conjunction.csv \n",
            "./../../libexec/iconv_euc_to_utf8.sh ./Adverb.csv \n",
            "./../../libexec/iconv_euc_to_utf8.sh ./Noun.org.csv \n",
            "./../../libexec/iconv_euc_to_utf8.sh ./Noun.verbal.csv \n",
            "./../../libexec/iconv_euc_to_utf8.sh ./Noun.nai.csv \n",
            "rm ./Verb.csv \n",
            "rm ./Noun.name.csv \n",
            "rm ./Noun.number.csv \n",
            "rm ./Adnominal.csv \n",
            "rm ./Postp.csv \n",
            "rm ./Suffix.csv \n",
            "rm ./Adj.csv \n",
            "rm ./Others.csv \n",
            "rm ./Noun.adjv.csv \n",
            "rm ./Noun.adverbal.csv \n",
            "rm ./Noun.csv \n",
            "rm ./Postp-col.csv \n",
            "rm ./Prefix.csv \n",
            "rm ./Filler.csv \n",
            "rm ./Noun.others.csv \n",
            "rm ./Symbol.csv \n",
            "rm ./Interjection.csv \n",
            "rm ./Noun.proper.csv \n",
            "rm ./Noun.place.csv \n",
            "rm ./Noun.demonst.csv \n",
            "rm ./Auxil.csv \n",
            "rm ./Conjunction.csv \n",
            "rm ./Adverb.csv \n",
            "rm ./Noun.org.csv \n",
            "rm ./Noun.verbal.csv \n",
            "rm ./Noun.nai.csv \n",
            "./../../libexec/iconv_euc_to_utf8.sh ./feature.def \n",
            "./../../libexec/iconv_euc_to_utf8.sh ./char.def \n",
            "./../../libexec/iconv_euc_to_utf8.sh ./left-id.def \n",
            "./../../libexec/iconv_euc_to_utf8.sh ./rewrite.def \n",
            "./../../libexec/iconv_euc_to_utf8.sh ./unk.def \n",
            "./../../libexec/iconv_euc_to_utf8.sh ./right-id.def \n",
            "./../../libexec/iconv_euc_to_utf8.sh ./matrix.def \n",
            "./../../libexec/iconv_euc_to_utf8.sh ./pos-id.def \n",
            "rm ./feature.def \n",
            "rm ./char.def \n",
            "rm ./left-id.def \n",
            "rm ./rewrite.def \n",
            "rm ./unk.def \n",
            "rm ./right-id.def \n",
            "rm ./matrix.def \n",
            "rm ./pos-id.def \n",
            "mv ./Interjection.csv.utf8 ./Interjection.csv \n",
            "mv ./unk.def.utf8 ./unk.def \n",
            "mv ./Noun.adjv.csv.utf8 ./Noun.adjv.csv \n",
            "mv ./Noun.adverbal.csv.utf8 ./Noun.adverbal.csv \n",
            "mv ./Postp.csv.utf8 ./Postp.csv \n",
            "mv ./Adverb.csv.utf8 ./Adverb.csv \n",
            "mv ./Postp-col.csv.utf8 ./Postp-col.csv \n",
            "mv ./left-id.def.utf8 ./left-id.def \n",
            "mv ./Conjunction.csv.utf8 ./Conjunction.csv \n",
            "mv ./Prefix.csv.utf8 ./Prefix.csv \n",
            "mv ./Verb.csv.utf8 ./Verb.csv \n",
            "mv ./Noun.number.csv.utf8 ./Noun.number.csv \n",
            "mv ./feature.def.utf8 ./feature.def \n",
            "mv ./Auxil.csv.utf8 ./Auxil.csv \n",
            "mv ./Others.csv.utf8 ./Others.csv \n",
            "mv ./Noun.place.csv.utf8 ./Noun.place.csv \n",
            "mv ./Noun.proper.csv.utf8 ./Noun.proper.csv \n",
            "mv ./Noun.nai.csv.utf8 ./Noun.nai.csv \n",
            "mv ./Adnominal.csv.utf8 ./Adnominal.csv \n",
            "mv ./Noun.verbal.csv.utf8 ./Noun.verbal.csv \n",
            "mv ./Suffix.csv.utf8 ./Suffix.csv \n",
            "mv ./Noun.name.csv.utf8 ./Noun.name.csv \n",
            "mv ./char.def.utf8 ./char.def \n",
            "mv ./matrix.def.utf8 ./matrix.def \n",
            "mv ./Symbol.csv.utf8 ./Symbol.csv \n",
            "mv ./right-id.def.utf8 ./right-id.def \n",
            "mv ./Filler.csv.utf8 ./Filler.csv \n",
            "mv ./Adj.csv.utf8 ./Adj.csv \n",
            "mv ./pos-id.def.utf8 ./pos-id.def \n",
            "mv ./Noun.csv.utf8 ./Noun.csv \n",
            "mv ./Noun.demonst.csv.utf8 ./Noun.demonst.csv \n",
            "mv ./Noun.org.csv.utf8 ./Noun.org.csv \n",
            "mv ./Noun.others.csv.utf8 ./Noun.others.csv \n",
            "mv ./rewrite.def.utf8 ./rewrite.def \n",
            "[make-mecab-ipadic-NEologd] : Fix yomigana field of IPA dictionary\n",
            "patching file Noun.csv\n",
            "patching file Noun.place.csv\n",
            "patching file Verb.csv\n",
            "patching file Noun.verbal.csv\n",
            "patching file Noun.name.csv\n",
            "patching file Noun.adverbal.csv\n",
            "patching file Noun.csv\n",
            "patching file Noun.name.csv\n",
            "patching file Noun.org.csv\n",
            "patching file Noun.others.csv\n",
            "patching file Noun.place.csv\n",
            "patching file Noun.proper.csv\n",
            "patching file Noun.verbal.csv\n",
            "patching file Prefix.csv\n",
            "patching file Suffix.csv\n",
            "patching file Noun.proper.csv\n",
            "patching file Noun.csv\n",
            "patching file Noun.name.csv\n",
            "patching file Noun.org.csv\n",
            "patching file Noun.place.csv\n",
            "patching file Noun.proper.csv\n",
            "patching file Noun.verbal.csv\n",
            "patching file Noun.name.csv\n",
            "patching file Noun.org.csv\n",
            "patching file Noun.place.csv\n",
            "patching file Noun.proper.csv\n",
            "patching file Suffix.csv\n",
            "patching file Noun.demonst.csv\n",
            "patching file Noun.csv\n",
            "patching file Noun.name.csv\n",
            "[make-mecab-ipadic-NEologd] : Copy user dictionary resource\n",
            "[make-mecab-ipadic-NEologd] : Install adverb entries using /content/mecab-ipadic-neologd/libexec/../seed/neologd-adverb-dict-seed.20150623.csv.xz\n",
            "[make-mecab-ipadic-NEologd] : Install interjection entries using /content/mecab-ipadic-neologd/libexec/../seed/neologd-interjection-dict-seed.20170216.csv.xz\n",
            "[make-mecab-ipadic-NEologd] : Install noun orthographic variant entries using /content/mecab-ipadic-neologd/libexec/../seed/neologd-common-noun-ortho-variant-dict-seed.20170228.csv.xz\n",
            "[make-mecab-ipadic-NEologd] : Install noun orthographic variant entries using /content/mecab-ipadic-neologd/libexec/../seed/neologd-proper-noun-ortho-variant-dict-seed.20161110.csv.xz\n",
            "[make-mecab-ipadic-NEologd] : Install entries of orthographic variant of a noun used as verb form using /content/mecab-ipadic-neologd/libexec/../seed/neologd-noun-sahen-conn-ortho-variant-dict-seed.20160323.csv.xz\n",
            "[make-mecab-ipadic-NEologd] : Install frequent adjective orthographic variant entries using /content/mecab-ipadic-neologd/libexec/../seed/neologd-adjective-std-dict-seed.20151126.csv.xz\n",
            "[make-mecab-ipadic-NEologd] : Not install /content/mecab-ipadic-neologd/libexec/../seed/neologd-adjective-exp-dict-seed.20151126.csv.xz\n",
            "[make-mecab-ipadic-NEologd] :     When you install neologd-adjective-exp-dict-seed.20151126.csv.xz, please set --install_adjective_exp option\n",
            "\n",
            "[make-mecab-ipadic-NEologd] : Install adjective verb orthographic variant entries using /content/mecab-ipadic-neologd/libexec/../seed/neologd-adjective-verb-dict-seed.20160324.csv.xz\n",
            "[make-mecab-ipadic-NEologd] : Not install /content/mecab-ipadic-neologd/libexec/../seed/neologd-date-time-infreq-dict-seed.20190415.csv.xz\n",
            "[make-mecab-ipadic-NEologd] :     When you install neologd-date-time-infreq-dict-seed.20190415.csv.xz, please set --install_infreq_datetime option\n",
            "\n",
            "[make-mecab-ipadic-NEologd] : Not install /content/mecab-ipadic-neologd/libexec/../seed/neologd-quantity-infreq-dict-seed.20190415.csv.xz\n",
            "[make-mecab-ipadic-NEologd] :     When you install neologd-quantity-infreq-dict-seed.20190415.csv.xz, please set --install_infreq_quantity option\n",
            "\n",
            "[make-mecab-ipadic-NEologd] : Install entries of ill formed words using /content/mecab-ipadic-neologd/libexec/../seed/neologd-ill-formed-words-dict-seed.20170127.csv.xz\n",
            "[make-mecab-ipadic-NEologd] : Re-Index system dictionary\n",
            "reading ./unk.def ... 40\n",
            "emitting double-array: 100% |###########################################| \n",
            "./model.def is not found. skipped.\n",
            "reading ./Verb.csv ... 130750\n",
            "reading ./neologd-adjective-verb-dict-seed.20160324.csv ... 20268\n",
            "reading ./Noun.name.csv ... 34215\n",
            "reading ./Noun.number.csv ... 42\n",
            "reading ./Adnominal.csv ... 135\n",
            "reading ./Postp.csv ... 146\n",
            "reading ./Suffix.csv ... 1448\n",
            "reading ./Adj.csv ... 27210\n",
            "reading ./Others.csv ... 2\n",
            "reading ./Noun.adjv.csv ... 3328\n",
            "reading ./Noun.adverbal.csv ... 808\n",
            "reading ./neologd-noun-sahen-conn-ortho-variant-dict-seed.20160323.csv ... 26058\n",
            "reading ./Noun.csv ... 60734\n",
            "reading ./Postp-col.csv ... 91\n",
            "reading ./Prefix.csv ... 224\n",
            "reading ./neologd-interjection-dict-seed.20170216.csv ... 4701\n",
            "reading ./neologd-proper-noun-ortho-variant-dict-seed.20161110.csv ... 138379\n",
            "reading ./Filler.csv ... 19\n",
            "reading ./Noun.others.csv ... 153\n",
            "reading ./neologd-ill-formed-words-dict-seed.20170127.csv ... 60616\n",
            "reading ./Symbol.csv ... 208\n",
            "reading ./Interjection.csv ... 252\n",
            "reading ./Noun.proper.csv ... 27493\n",
            "reading ./Noun.place.csv ... 73194\n",
            "reading ./Noun.demonst.csv ... 120\n",
            "reading ./neologd-adverb-dict-seed.20150623.csv ... 139792\n",
            "reading ./Auxil.csv ... 199\n",
            "reading ./Conjunction.csv ... 171\n",
            "reading ./neologd-adjective-std-dict-seed.20151126.csv ... 507812\n",
            "reading ./Adverb.csv ... 3032\n",
            "reading ./mecab-user-dict-seed.20190722.csv ... 3143500\n",
            "reading ./Noun.org.csv ... 17149\n",
            "reading ./neologd-common-noun-ortho-variant-dict-seed.20170228.csv ... 152869\n",
            "reading ./Noun.verbal.csv ... 12150\n",
            "reading ./Noun.nai.csv ... 42\n",
            "emitting double-array: 100% |###########################################| \n",
            "reading ./matrix.def ... 1316x1316\n",
            "emitting matrix      : 100% |###########################################| \n",
            "\n",
            "done!\n",
            "[make-mecab-ipadic-NEologd] : Make custom system dictionary on /content/mecab-ipadic-neologd/libexec/../build/mecab-ipadic-2.7.0-20070801-neologd-20190722\n",
            "make: Nothing to be done for 'all'.\n",
            "[make-mecab-ipadic-NEologd] : Finish..\n",
            "[install-mecab-ipadic-NEologd] : Get results of tokenize test\n",
            "[test-mecab-ipadic-NEologd] : Start..\n",
            "[test-mecab-ipadic-NEologd] : Replace timestamp from 'git clone' date to 'git commit' date\n",
            "[test-mecab-ipadic-NEologd] : Get buzz phrases\n",
            "  % Total    % Received % Xferd  Average Speed   Time    Time     Time  Current\n",
            "                                 Dload  Upload   Total   Spent    Left  Speed\n",
            "100  1416  100  1416    0     0   2395      0 --:--:-- --:--:-- --:--:--  2391\n",
            "[test-mecab-ipadic-NEologd] : Get difference between default system dictionary and mecab-ipadic-NEologd\n",
            "[test-mecab-ipadic-NEologd] : Something wrong. You shouldn't install mecab-ipadic-NEologd yet.\n",
            "[test-mecab-ipadic-NEologd] : Finish..\n",
            "\n",
            "[install-mecab-ipadic-NEologd] : Please check the list of differences in the upper part.\n",
            "\n",
            "[install-mecab-ipadic-NEologd] : Do you want to install mecab-ipadic-NEologd? Type yes or no.\n",
            "[install-mecab-ipadic-NEologd] : OK. Let's install mecab-ipadic-NEologd.\n",
            "[install-mecab-ipadic-NEologd] : Start..\n",
            "[install-mecab-ipadic-NEologd] : /usr/lib/x86_64-linux-gnu/mecab/dic is current user's directory\n",
            "[install-mecab-ipadic-NEologd] : Make install to /usr/lib/x86_64-linux-gnu/mecab/dic/mecab-ipadic-neologd\n",
            "make[1]: Entering directory '/content/mecab-ipadic-neologd/build/mecab-ipadic-2.7.0-20070801-neologd-20190722'\n",
            "make[1]: Nothing to be done for 'install-exec-am'.\n",
            "/bin/bash ./mkinstalldirs /usr/lib/x86_64-linux-gnu/mecab/dic/mecab-ipadic-neologd\n",
            " /usr/bin/install -c -m 644 ./matrix.bin /usr/lib/x86_64-linux-gnu/mecab/dic/mecab-ipadic-neologd/matrix.bin\n",
            " /usr/bin/install -c -m 644 ./char.bin /usr/lib/x86_64-linux-gnu/mecab/dic/mecab-ipadic-neologd/char.bin\n",
            " /usr/bin/install -c -m 644 ./sys.dic /usr/lib/x86_64-linux-gnu/mecab/dic/mecab-ipadic-neologd/sys.dic\n",
            " /usr/bin/install -c -m 644 ./unk.dic /usr/lib/x86_64-linux-gnu/mecab/dic/mecab-ipadic-neologd/unk.dic\n",
            " /usr/bin/install -c -m 644 ./left-id.def /usr/lib/x86_64-linux-gnu/mecab/dic/mecab-ipadic-neologd/left-id.def\n",
            " /usr/bin/install -c -m 644 ./right-id.def /usr/lib/x86_64-linux-gnu/mecab/dic/mecab-ipadic-neologd/right-id.def\n",
            " /usr/bin/install -c -m 644 ./rewrite.def /usr/lib/x86_64-linux-gnu/mecab/dic/mecab-ipadic-neologd/rewrite.def\n",
            " /usr/bin/install -c -m 644 ./pos-id.def /usr/lib/x86_64-linux-gnu/mecab/dic/mecab-ipadic-neologd/pos-id.def\n",
            " /usr/bin/install -c -m 644 ./dicrc /usr/lib/x86_64-linux-gnu/mecab/dic/mecab-ipadic-neologd/dicrc\n",
            "make[1]: Leaving directory '/content/mecab-ipadic-neologd/build/mecab-ipadic-2.7.0-20070801-neologd-20190722'\n",
            "\n",
            "[install-mecab-ipadic-NEologd] : Install completed.\n",
            "[install-mecab-ipadic-NEologd] : When you use MeCab, you can set '/usr/lib/x86_64-linux-gnu/mecab/dic/mecab-ipadic-neologd' as a value of '-d' option of MeCab.\n",
            "[install-mecab-ipadic-NEologd] : Usage of mecab-ipadic-NEologd is here.\n",
            "Usage:\n",
            "    $ mecab -d /usr/lib/x86_64-linux-gnu/mecab/dic/mecab-ipadic-neologd ...\n",
            "\n",
            "[install-mecab-ipadic-NEologd] : Finish..\n",
            "[install-mecab-ipadic-NEologd] : Finish..\n"
          ],
          "name": "stdout"
        }
      ]
    },
    {
      "cell_type": "code",
      "metadata": {
        "id": "eK1SuHKFR6ho",
        "colab_type": "code",
        "outputId": "fa46a8b0-7306-4220-f5fb-f9355ccb2a4e",
        "colab": {
          "base_uri": "https://localhost:8080/",
          "height": 85
        }
      },
      "source": [
        "%%bash\n",
        "mecab \n",
        "メカブって神ってる"
      ],
      "execution_count": 3,
      "outputs": [
        {
          "output_type": "stream",
          "text": [
            "メカブ\t名詞,固有名詞,一般,*,*,*,MeCab,メカブ,メカブ\n",
            "って\t助詞,格助詞,連語,*,*,*,って,ッテ,ッテ\n",
            "神ってる\t名詞,固有名詞,一般,*,*,*,神ってる,カミッテル,カミッテル\n",
            "EOS\n"
          ],
          "name": "stdout"
        }
      ]
    },
    {
      "cell_type": "code",
      "metadata": {
        "id": "w-cOrb9ySTn5",
        "colab_type": "code",
        "colab": {}
      },
      "source": [
        "!sed -e \"s!/var/lib/mecab/dic/debian!/usr/lib/x86_64-linux-gnu/mecab/dic/mecab-ipadic-neologd!g\" /etc/mecabrc > /etc/mecabrc.new"
      ],
      "execution_count": 0,
      "outputs": []
    },
    {
      "cell_type": "code",
      "metadata": {
        "id": "aKvNE0wgSboc",
        "colab_type": "code",
        "outputId": "653c15d5-67b0-4dd4-baf0-141a27594ed2",
        "colab": {
          "base_uri": "https://localhost:8080/",
          "height": 289
        }
      },
      "source": [
        "!cat /etc/mecabrc.new"
      ],
      "execution_count": 5,
      "outputs": [
        {
          "output_type": "stream",
          "text": [
            ";\n",
            "; Configuration file of MeCab\n",
            ";\n",
            "; $Id: mecabrc.in,v 1.3 2006/05/29 15:36:08 taku-ku Exp $;\n",
            ";\n",
            "dicdir = /usr/lib/x86_64-linux-gnu/mecab/dic/mecab-ipadic-neologd\n",
            "\n",
            "; userdic = /home/foo/bar/user.dic\n",
            "\n",
            "; output-format-type = wakati\n",
            "; input-buffer-size = 8192\n",
            "\n",
            "; node-format = %m\\n\n",
            "; bos-format = %S\\n\n",
            "; eos-format = EOS\\n\n",
            "\n"
          ],
          "name": "stdout"
        }
      ]
    },
    {
      "cell_type": "code",
      "metadata": {
        "id": "-dydLmwkT5un",
        "colab_type": "code",
        "colab": {}
      },
      "source": [
        "!cp /etc/mecabrc /etc/mecabrc.org\n",
        "!cp /etc/mecabrc.new /etc/mecabrc"
      ],
      "execution_count": 0,
      "outputs": []
    },
    {
      "cell_type": "code",
      "metadata": {
        "id": "VbLZC-ktUZsF",
        "colab_type": "code",
        "outputId": "d03f0ebc-325c-4559-e4eb-e4871929293e",
        "colab": {
          "base_uri": "https://localhost:8080/",
          "height": 289
        }
      },
      "source": [
        "!cat /etc/mecabrc"
      ],
      "execution_count": 7,
      "outputs": [
        {
          "output_type": "stream",
          "text": [
            ";\n",
            "; Configuration file of MeCab\n",
            ";\n",
            "; $Id: mecabrc.in,v 1.3 2006/05/29 15:36:08 taku-ku Exp $;\n",
            ";\n",
            "dicdir = /usr/lib/x86_64-linux-gnu/mecab/dic/mecab-ipadic-neologd\n",
            "\n",
            "; userdic = /home/foo/bar/user.dic\n",
            "\n",
            "; output-format-type = wakati\n",
            "; input-buffer-size = 8192\n",
            "\n",
            "; node-format = %m\\n\n",
            "; bos-format = %S\\n\n",
            "; eos-format = EOS\\n\n",
            "\n"
          ],
          "name": "stdout"
        }
      ]
    },
    {
      "cell_type": "code",
      "metadata": {
        "id": "jvnSkkTpSfjB",
        "colab_type": "code",
        "outputId": "d5770671-32a6-4226-e802-aa6b34e185c5",
        "colab": {
          "base_uri": "https://localhost:8080/",
          "height": 85
        }
      },
      "source": [
        "%%bash\n",
        "mecab \n",
        "メカブって神ってる"
      ],
      "execution_count": 8,
      "outputs": [
        {
          "output_type": "stream",
          "text": [
            "メカブ\t名詞,固有名詞,一般,*,*,*,MeCab,メカブ,メカブ\n",
            "って\t助詞,格助詞,連語,*,*,*,って,ッテ,ッテ\n",
            "神ってる\t名詞,固有名詞,一般,*,*,*,神ってる,カミッテル,カミッテル\n",
            "EOS\n"
          ],
          "name": "stdout"
        }
      ]
    },
    {
      "cell_type": "code",
      "metadata": {
        "id": "g04W-KQQSmap",
        "colab_type": "code",
        "outputId": "4f167d23-8f41-4600-b529-8eb3180faf98",
        "colab": {
          "base_uri": "https://localhost:8080/",
          "height": 153
        }
      },
      "source": [
        "!apt-get -q -y install swig "
      ],
      "execution_count": 9,
      "outputs": [
        {
          "output_type": "stream",
          "text": [
            "Reading package lists...\n",
            "Building dependency tree...\n",
            "Reading state information...\n",
            "swig is already the newest version (3.0.12-1).\n",
            "The following package was automatically installed and is no longer required:\n",
            "  libnvidia-common-410\n",
            "Use 'apt autoremove' to remove it.\n",
            "0 upgraded, 0 newly installed, 0 to remove and 7 not upgraded.\n"
          ],
          "name": "stdout"
        }
      ]
    },
    {
      "cell_type": "code",
      "metadata": {
        "id": "raw4ZwrtS9kl",
        "colab_type": "code",
        "outputId": "5ecf2da5-5745-46e7-c707-d84b7875eec1",
        "colab": {
          "base_uri": "https://localhost:8080/",
          "height": 34
        }
      },
      "source": [
        "!pip install mecab-python3"
      ],
      "execution_count": 10,
      "outputs": [
        {
          "output_type": "stream",
          "text": [
            "Requirement already satisfied: mecab-python3 in /usr/local/lib/python3.6/dist-packages (0.996.2)\n"
          ],
          "name": "stdout"
        }
      ]
    },
    {
      "cell_type": "code",
      "metadata": {
        "id": "6-t4Abf6W0k4",
        "colab_type": "code",
        "outputId": "885aafb3-5a17-48aa-f17d-222b3d89fc15",
        "colab": {
          "base_uri": "https://localhost:8080/",
          "height": 34
        }
      },
      "source": [
        "!pip install jaconv"
      ],
      "execution_count": 11,
      "outputs": [
        {
          "output_type": "stream",
          "text": [
            "Requirement already satisfied: jaconv in /usr/local/lib/python3.6/dist-packages (0.2.4)\n"
          ],
          "name": "stdout"
        }
      ]
    },
    {
      "cell_type": "markdown",
      "metadata": {
        "id": "BkPnP39XTGdd",
        "colab_type": "text"
      },
      "source": [
        "設定終わり"
      ]
    },
    {
      "cell_type": "code",
      "metadata": {
        "id": "l9IB5m9BTB2w",
        "colab_type": "code",
        "colab": {}
      },
      "source": [
        "import MeCab\n",
        "import re"
      ],
      "execution_count": 0,
      "outputs": []
    },
    {
      "cell_type": "code",
      "metadata": {
        "id": "BUY6FvUmTVC7",
        "colab_type": "code",
        "outputId": "588fdf53-d617-4621-8ced-cb243f398f5b",
        "colab": {
          "base_uri": "https://localhost:8080/",
          "height": 153
        }
      },
      "source": [
        "mecab = MeCab.Tagger()\n",
        "res = mecab.parse('メカブって神ってるaaa')\n",
        "print(res)"
      ],
      "execution_count": 13,
      "outputs": [
        {
          "output_type": "stream",
          "text": [
            "メカブ\t名詞,固有名詞,組織,*,*,*,*\n",
            "って\t助詞,格助詞,連語,*,*,*,って,ッテ,ッテ\n",
            "神\t名詞,一般,*,*,*,*,神,カミ,カミ\n",
            "っ\t動詞,非自立,*,*,五段・カ行促音便,連用タ接続,く,ッ,ッ\n",
            "てる\t動詞,非自立,*,*,一段,基本形,てる,テル,テル\n",
            "aaa\t名詞,固有名詞,組織,*,*,*,*\n",
            "EOS\n",
            "\n"
          ],
          "name": "stdout"
        }
      ]
    },
    {
      "cell_type": "markdown",
      "metadata": {
        "id": "aQ616W3wVB9u",
        "colab_type": "text"
      },
      "source": [
        " 以下、(https://qiita.com/yonedaco/items/27e1ad19132c9f1c9180) を参考に、読み仮名変換を行う。\n",
        " \n",
        " [ひらがなカタカナ判定](https://qiita.com/mocha_xx/items/00c5a968f7069d8e092c)と\n",
        "[正規表現](https://qiita.com/fubarworld2/items/9da655df4d6d69750c06)を参考に判定"
      ]
    },
    {
      "cell_type": "code",
      "metadata": {
        "id": "kthLIsc03TcF",
        "colab_type": "code",
        "colab": {}
      },
      "source": [
        "re_hiragana = re.compile(r'^[ぁ-ん]+$')\n",
        "re_katakana = re.compile(r'([ァ-ン]|ー)+')"
      ],
      "execution_count": 0,
      "outputs": []
    },
    {
      "cell_type": "code",
      "metadata": {
        "id": "3wGQFcDDVK59",
        "colab_type": "code",
        "colab": {}
      },
      "source": [
        "import jaconv",
        "def sentence_to_yomi(sentence):\n",
        "  mecabTagger = MeCab.Tagger()\n",
        "  node = mecabTagger.parseToNode(sentence)\n",
        "  yomi =\"\"\n",
        "  while node:\n",
        "      word = node.surface\n",
        "      features = node.feature.split(\",\")\n",
        "      print(word,features)\n",
        "      node = node.next\n",
        "      word_yomi = \"\"\n",
        "      #文章の終わりと始まりを示すものは要らない\n",
        "      if (features[0] == 'BOS/EOS'):\n",
        "        continue\n",
        "       #記号は不要なので覗く\n",
        "      if (features[0] == '記号'):\n",
        "        continue\n",
        "      if (len(features) == 9):\n",
        "        #8だと長音が入るので7\n",
        "        word_yomi = features[7]\n",
        "      elif(re_hiragana.fullmatch(word)):\n",
        "        #ひらがなはカタカナにしましょうねー\n",
        "        word_yomi = jaconv.hira2hkata(word)\n",
        "      else:\n",
        "        word_yomi = word\n",
        "      #TODO: word_yomiがカタカナとひらがな混じりだと上手くいかない\n",
        "      if(re_katakana.fullmatch(word_yomi)):\n",
        "        yomi += word_yomi\n",
        "\n",
        "  return yomi"
      ],
      "execution_count": 0,
      "outputs": []
    },
    {
      "cell_type": "code",
      "metadata": {
        "id": "HcSV9Dht3jpU",
        "colab_type": "code",
        "colab": {
          "base_uri": "https://localhost:8080/",
          "height": 527
        },
        "outputId": "7fe7eaef-d050-425f-c844-29e4454f4ec0"
      },
      "source": [
        "#雑なテスト文章\n",
        "sentence_to_yomi(\"ちょー1111!!!!、マジウケルwwww。日本語正しく使うの大変ンゴ。とりあえずたなかたろうさんとlunchしてくるわー\")"
      ],
      "execution_count": 16,
      "outputs": [
        {
          "output_type": "stream",
          "text": [
            " ['BOS/EOS', '*', '*', '*', '*', '*', '*', '*', '*']\n",
            "ちょ ['名詞', '動詞非自立的', '*', '*', '*', '*', 'ちょ', 'チョ', 'チョ']\n",
            "ー ['名詞', '一般', '*', '*', '*', '*', '*']\n",
            "1111 ['名詞', '数', '*', '*', '*', '*', '*']\n",
            "!!!!、 ['名詞', 'サ変接続', '*', '*', '*', '*', '*']\n",
            "マジウケル ['名詞', '一般', '*', '*', '*', '*', '*']\n",
            "wwww ['名詞', '一般', '*', '*', '*', '*', '*']\n",
            "。 ['記号', '句点', '*', '*', '*', '*', '。', '。', '。']\n",
            "日本語 ['名詞', '一般', '*', '*', '*', '*', '日本語', 'ニホンゴ', 'ニホンゴ']\n",
            "正しく ['形容詞', '自立', '*', '*', '形容詞・イ段', '連用テ接続', '正しい', 'タダシク', 'タダシク']\n",
            "使う ['動詞', '自立', '*', '*', '五段・ワ行促音便', '基本形', '使う', 'ツカウ', 'ツカウ']\n",
            "の ['名詞', '非自立', '一般', '*', '*', '*', 'の', 'ノ', 'ノ']\n",
            "大変 ['名詞', '形容動詞語幹', '*', '*', '*', '*', '大変', 'タイヘン', 'タイヘン']\n",
            "ンゴ ['名詞', '一般', '*', '*', '*', '*', '*']\n",
            "。 ['記号', '句点', '*', '*', '*', '*', '。', '。', '。']\n",
            "とりあえず ['副詞', '助詞類接続', '*', '*', '*', '*', 'とりあえず', 'トリアエズ', 'トリアエズ']\n",
            "た ['助動詞', '*', '*', '*', '特殊・タ', '基本形', 'た', 'タ', 'タ']\n",
            "なか ['名詞', '非自立', '副詞可能', '*', '*', '*', 'なか', 'ナカ', 'ナカ']\n",
            "たろ ['助動詞', '*', '*', '*', '特殊・タ', '未然形', 'た', 'タロ', 'タロ']\n",
            "う ['助動詞', '*', '*', '*', '不変化型', '基本形', 'う', 'ウ', 'ウ']\n",
            "さん ['名詞', '接尾', '人名', '*', '*', '*', 'さん', 'サン', 'サン']\n",
            "と ['助詞', '格助詞', '一般', '*', '*', '*', 'と', 'ト', 'ト']\n",
            "lunch ['名詞', '一般', '*', '*', '*', '*', '*']\n",
            "し ['動詞', '自立', '*', '*', 'サ変・スル', '連用形', 'する', 'シ', 'シ']\n",
            "て ['助詞', '接続助詞', '*', '*', '*', '*', 'て', 'テ', 'テ']\n",
            "くる ['動詞', '非自立', '*', '*', 'カ変・クル', '基本形', 'くる', 'クル', 'クル']\n",
            "わ ['助詞', '終助詞', '*', '*', '*', '*', 'わ', 'ワ', 'ワ']\n",
            "ー ['名詞', '一般', '*', '*', '*', '*', '*']\n",
            " ['BOS/EOS', '*', '*', '*', '*', '*', '*', '*', '*']\n"
          ],
          "name": "stdout"
        },
        {
          "output_type": "execute_result",
          "data": {
            "text/plain": [
              "'チョーマジウケルニホンゴタダシクツカウノタイヘンンゴトリアエズタナカタロウサントシテクルワー'"
            ]
          },
          "metadata": {
            "tags": []
          },
          "execution_count": 16
        }
      ]
    },
    {
      "cell_type": "code",
      "metadata": {
        "id": "3nxsy9-x3mUY",
        "colab_type": "code",
        "colab": {
          "base_uri": "https://localhost:8080/",
          "height": 306
        },
        "outputId": "da7c08da-a200-4e2a-eb78-685a1dbd27c0"
      },
      "source": [
        "#雑なテスト2\n",
        "sentence_to_yomi(\"暴れまわるAIの暴走を止める人類最後の戦士Arthurの物語\")"
      ],
      "execution_count": 17,
      "outputs": [
        {
          "output_type": "stream",
          "text": [
            " ['BOS/EOS', '*', '*', '*', '*', '*', '*', '*', '*']\n",
            "暴れ ['動詞', '自立', '*', '*', '一段', '連用形', '暴れる', 'アバレ', 'アバレ']\n",
            "まわる ['動詞', '非自立', '*', '*', '五段・ラ行', '基本形', 'まわる', 'マワル', 'マワル']\n",
            "AI ['名詞', '一般', '*', '*', '*', '*', '*']\n",
            "の ['助詞', '連体化', '*', '*', '*', '*', 'の', 'ノ', 'ノ']\n",
            "暴走 ['名詞', 'サ変接続', '*', '*', '*', '*', '暴走', 'ボウソウ', 'ボーソー']\n",
            "を ['助詞', '格助詞', '一般', '*', '*', '*', 'を', 'ヲ', 'ヲ']\n",
            "止める ['動詞', '自立', '*', '*', '一段', '基本形', '止める', 'トメル', 'トメル']\n",
            "人類 ['名詞', '一般', '*', '*', '*', '*', '人類', 'ジンルイ', 'ジンルイ']\n",
            "最後 ['名詞', '一般', '*', '*', '*', '*', '最後', 'サイゴ', 'サイゴ']\n",
            "の ['助詞', '連体化', '*', '*', '*', '*', 'の', 'ノ', 'ノ']\n",
            "戦士 ['名詞', '一般', '*', '*', '*', '*', '戦士', 'センシ', 'センシ']\n",
            "Arthur ['名詞', '一般', '*', '*', '*', '*', '*']\n",
            "の ['助詞', '連体化', '*', '*', '*', '*', 'の', 'ノ', 'ノ']\n",
            "物語 ['名詞', '一般', '*', '*', '*', '*', '物語', 'モノガタリ', 'モノガタリ']\n",
            " ['BOS/EOS', '*', '*', '*', '*', '*', '*', '*', '*']\n"
          ],
          "name": "stdout"
        },
        {
          "output_type": "execute_result",
          "data": {
            "text/plain": [
              "'アバレマワルノボウソウヲトメルジンルイサイゴノセンシノモノガタリ'"
            ]
          },
          "metadata": {
            "tags": []
          },
          "execution_count": 17
        }
      ]
    },
    {
      "cell_type": "code",
      "metadata": {
        "id": "wp9aZVZo3pBV",
        "colab_type": "code",
        "colab": {
          "base_uri": "https://localhost:8080/",
          "height": 170
        },
        "outputId": "77aa92cb-6304-433e-b3b0-d22e9aa60f82"
      },
      "source": [
        "#長音の確認\n",
        "sentence_to_yomi(\"パートナーシップ証明書を持つカップル\")"
      ],
      "execution_count": 18,
      "outputs": [
        {
          "output_type": "stream",
          "text": [
            " ['BOS/EOS', '*', '*', '*', '*', '*', '*', '*', '*']\n",
            "パートナーシップ ['名詞', '一般', '*', '*', '*', '*', 'パートナーシップ', 'パートナーシップ', 'パートナーシップ']\n",
            "証明 ['名詞', 'サ変接続', '*', '*', '*', '*', '証明', 'ショウメイ', 'ショーメイ']\n",
            "書 ['名詞', '接尾', '一般', '*', '*', '*', '書', 'ショ', 'ショ']\n",
            "を ['助詞', '格助詞', '一般', '*', '*', '*', 'を', 'ヲ', 'ヲ']\n",
            "持つ ['動詞', '自立', '*', '*', '五段・タ行', '基本形', '持つ', 'モツ', 'モツ']\n",
            "カップル ['名詞', '一般', '*', '*', '*', '*', 'カップル', 'カップル', 'カップル']\n",
            " ['BOS/EOS', '*', '*', '*', '*', '*', '*', '*', '*']\n"
          ],
          "name": "stdout"
        },
        {
          "output_type": "execute_result",
          "data": {
            "text/plain": [
              "'パートナーシップショウメイショヲモツカップル'"
            ]
          },
          "metadata": {
            "tags": []
          },
          "execution_count": 18
        }
      ]
    }
  ]
}
